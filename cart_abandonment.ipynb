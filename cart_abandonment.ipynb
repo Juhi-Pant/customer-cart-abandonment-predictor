{
  "nbformat": 4,
  "nbformat_minor": 0,
  "metadata": {
    "colab": {
      "name": "cart_abandonment.ipynb",
      "provenance": [],
      "toc_visible": true,
      "include_colab_link": true
    },
    "kernelspec": {
      "display_name": "Python 3",
      "language": "python",
      "name": "python3"
    },
    "language_info": {
      "codemirror_mode": {
        "name": "ipython",
        "version": 3
      },
      "file_extension": ".py",
      "mimetype": "text/x-python",
      "name": "python",
      "nbconvert_exporter": "python",
      "pygments_lexer": "ipython3",
      "version": "3.6.5"
    }
  },
  "cells": [
    {
      "cell_type": "markdown",
      "metadata": {
        "id": "view-in-github",
        "colab_type": "text"
      },
      "source": [
        "<a href=\"https://colab.research.google.com/github/ratul442/Customer-Cart-Abandonment-Analysis/blob/main/cart_abandonment.ipynb\" target=\"_parent\"><img src=\"https://colab.research.google.com/assets/colab-badge.svg\" alt=\"Open In Colab\"/></a>"
      ]
    },
    {
      "cell_type": "markdown",
      "metadata": {
        "id": "TfDgdWia2K_N"
      },
      "source": [
        "# Customer Cart Abandonment"
      ]
    },
    {
      "cell_type": "markdown",
      "metadata": {
        "id": "k5nVrEq82K_g"
      },
      "source": [
        "## Introduction\n",
        "Abandonment is an e-commerce term used to describe a visitor on a web page who leaves that page before completing the desired action. Examples of abandonment include shopping cart abandonment, referring to visitors who add items to their online shopping cart, but exit without completing the purchase."
      ]
    },
    {
      "cell_type": "markdown",
      "metadata": {
        "id": "2MbgYg2C9gpu"
      },
      "source": [
        "**The dataset consists of 13 attributes:**\n",
        "\n",
        "ID: The session id of the customer.\n",
        "\n",
        "Is_Product_Details_viewed: Whether the customer is viewing the product details or not.\n",
        "\n",
        "Session_Activity_Count: How many times a customer is going to the different pages.\n",
        "\n",
        "No_Items_Added_InCart: Number of items in cart.\n",
        "\n",
        "No_Items_Removed_FromCart: Number of items removed from the cart.\n",
        "\n",
        "No_Cart_Viewed: How many times the customer is going to the cart page.\n",
        "\n",
        "No_Checkout_Confirmed: How many times the checkout has been confirmed successfully by the customer.\n",
        "\n",
        "No_Checkout_Initiated: How many times the checkout(successful as well as unsuccess) is being done by the user.\n",
        "\n",
        "No_Cart_Items_Viewed: How many times a user is viewing the product from cart.\n",
        "\n",
        "No_Customer_Login: Number of times the customer had did log in.\n",
        "\n",
        "No_Page_Viewed: Number of pages viewed by the customer.\n",
        "Customer_Segment_Type: The customer falls under which category,i.e, 0 for Target Customer, 1 for Loyal Customer, and 2 for Untargeted customer.\n",
        "\n",
        "Cart_Abandoned: Whether the customer is doing cart abandonment or not. This is the target variable that we need to predict."
      ]
    },
    {
      "cell_type": "markdown",
      "metadata": {
        "id": "wEIbMcoQ94BC"
      },
      "source": [
        "**The dataset used in this case is real and was taken from an organization for research purposes. The dataset contains 4284 rows and 13 columns.**"
      ]
    },
    {
      "cell_type": "markdown",
      "metadata": {
        "id": "MC3unqwU2K_h"
      },
      "source": [
        "### Import Libraries"
      ]
    },
    {
      "cell_type": "code",
      "metadata": {
        "id": "nmdEPgPH2K_h"
      },
      "source": [
        "import pickle as pkl\n",
        "import pandas as pd\n",
        "import numpy as np\n",
        "import seaborn as sns\n",
        "from imblearn.over_sampling import SMOTE\n",
        "from sklearn.model_selection import train_test_split\n",
        "from sklearn.preprocessing import StandardScaler\n",
        "from sklearn.impute import SimpleImputer\n",
        "from sklearn.metrics import confusion_matrix,accuracy_score,cohen_kappa_score\n",
        "from sklearn.ensemble import RandomForestClassifier\n",
        "from sklearn.preprocessing import MinMaxScaler\n",
        "from scipy.special import boxcox1p\n",
        "from sklearn.feature_selection import RFE\n",
        "from sklearn.linear_model import LogisticRegression\n",
        "import matplotlib.pyplot as plt\n",
        "%matplotlib inline"
      ],
      "execution_count": 25,
      "outputs": []
    },
    {
      "cell_type": "markdown",
      "metadata": {
        "id": "KsOO_kN72K_k"
      },
      "source": [
        "## 1. Business Understanding\n",
        "If a customer will visits the webpage then at that time we have to predict whether the customer will do abandonment or not. By doing so, we can give those customers some suitable offers so that cart abandonmet ratio will decrease which in terms increase in profits. \n",
        "There are few questions that we can able to answer by doing analysis:\n",
        "1. If a customer is viewing the product details then what is the chance that he is doing cart abandonment?\n",
        "2. What are the important factors related to cart abandonment?\n",
        "3. How can we able to know whether a customer will do abandonment or not in future?"
      ]
    },
    {
      "cell_type": "markdown",
      "metadata": {
        "id": "7aw7VP8U2K_l"
      },
      "source": [
        "## 2. Data Understanding"
      ]
    },
    {
      "cell_type": "markdown",
      "metadata": {
        "id": "mrxpa0Rx2K_l"
      },
      "source": [
        "### Read Dataset"
      ]
    },
    {
      "cell_type": "code",
      "metadata": {
        "colab": {
          "base_uri": "https://localhost:8080/",
          "height": 224
        },
        "id": "BOQOBtAa2K_l",
        "outputId": "dbe6d2a0-12cf-42a4-f8f0-71c31417eb17"
      },
      "source": [
        "dataset = pd.read_csv('data_cart_abandonment.csv')\n",
        "dataset.head()"
      ],
      "execution_count": 84,
      "outputs": [
        {
          "output_type": "execute_result",
          "data": {
            "text/html": [
              "<div>\n",
              "<style scoped>\n",
              "    .dataframe tbody tr th:only-of-type {\n",
              "        vertical-align: middle;\n",
              "    }\n",
              "\n",
              "    .dataframe tbody tr th {\n",
              "        vertical-align: top;\n",
              "    }\n",
              "\n",
              "    .dataframe thead th {\n",
              "        text-align: right;\n",
              "    }\n",
              "</style>\n",
              "<table border=\"1\" class=\"dataframe\">\n",
              "  <thead>\n",
              "    <tr style=\"text-align: right;\">\n",
              "      <th></th>\n",
              "      <th>ID</th>\n",
              "      <th>Is_Product_Details_viewed</th>\n",
              "      <th>Session_Activity_Count</th>\n",
              "      <th>No_Items_Added_InCart</th>\n",
              "      <th>No_Items_Removed_FromCart</th>\n",
              "      <th>No_Cart_Viewed</th>\n",
              "      <th>No_Checkout_Confirmed</th>\n",
              "      <th>No_Checkout_Initiated</th>\n",
              "      <th>No_Cart_Items_Viewed</th>\n",
              "      <th>No_Customer_Login</th>\n",
              "      <th>No_Page_Viewed</th>\n",
              "      <th>Customer_Segment_Type</th>\n",
              "      <th>Cart_Abandoned</th>\n",
              "    </tr>\n",
              "  </thead>\n",
              "  <tbody>\n",
              "    <tr>\n",
              "      <th>0</th>\n",
              "      <td>Session_ID_0</td>\n",
              "      <td>Yes</td>\n",
              "      <td>4</td>\n",
              "      <td>1.0</td>\n",
              "      <td>0</td>\n",
              "      <td>0.0</td>\n",
              "      <td>0</td>\n",
              "      <td>0</td>\n",
              "      <td>1</td>\n",
              "      <td>0</td>\n",
              "      <td>0</td>\n",
              "      <td>0</td>\n",
              "      <td>1</td>\n",
              "    </tr>\n",
              "    <tr>\n",
              "      <th>1</th>\n",
              "      <td>Session_ID_1</td>\n",
              "      <td>No</td>\n",
              "      <td>38</td>\n",
              "      <td>0.0</td>\n",
              "      <td>0</td>\n",
              "      <td>2.0</td>\n",
              "      <td>0</td>\n",
              "      <td>0</td>\n",
              "      <td>2</td>\n",
              "      <td>0</td>\n",
              "      <td>2</td>\n",
              "      <td>0</td>\n",
              "      <td>1</td>\n",
              "    </tr>\n",
              "    <tr>\n",
              "      <th>2</th>\n",
              "      <td>Session_ID_2</td>\n",
              "      <td>No</td>\n",
              "      <td>8</td>\n",
              "      <td>5.0</td>\n",
              "      <td>0</td>\n",
              "      <td>0.0</td>\n",
              "      <td>1</td>\n",
              "      <td>1</td>\n",
              "      <td>1</td>\n",
              "      <td>0</td>\n",
              "      <td>0</td>\n",
              "      <td>1</td>\n",
              "      <td>0</td>\n",
              "    </tr>\n",
              "    <tr>\n",
              "      <th>3</th>\n",
              "      <td>Session_ID_3</td>\n",
              "      <td>No</td>\n",
              "      <td>6</td>\n",
              "      <td>0.0</td>\n",
              "      <td>0</td>\n",
              "      <td>2.0</td>\n",
              "      <td>0</td>\n",
              "      <td>0</td>\n",
              "      <td>4</td>\n",
              "      <td>0</td>\n",
              "      <td>0</td>\n",
              "      <td>0</td>\n",
              "      <td>1</td>\n",
              "    </tr>\n",
              "    <tr>\n",
              "      <th>4</th>\n",
              "      <td>Session_ID_4</td>\n",
              "      <td>Yes</td>\n",
              "      <td>31</td>\n",
              "      <td>14.0</td>\n",
              "      <td>12</td>\n",
              "      <td>1.0</td>\n",
              "      <td>0</td>\n",
              "      <td>0</td>\n",
              "      <td>4</td>\n",
              "      <td>0</td>\n",
              "      <td>0</td>\n",
              "      <td>2</td>\n",
              "      <td>1</td>\n",
              "    </tr>\n",
              "  </tbody>\n",
              "</table>\n",
              "</div>"
            ],
            "text/plain": [
              "             ID  ... Cart_Abandoned\n",
              "0  Session_ID_0  ...              1\n",
              "1  Session_ID_1  ...              1\n",
              "2  Session_ID_2  ...              0\n",
              "3  Session_ID_3  ...              1\n",
              "4  Session_ID_4  ...              1\n",
              "\n",
              "[5 rows x 13 columns]"
            ]
          },
          "metadata": {
            "tags": []
          },
          "execution_count": 84
        }
      ]
    },
    {
      "cell_type": "code",
      "metadata": {
        "id": "Y2gOb8FF-cYz",
        "outputId": "f9f38e8c-7154-41e6-f666-12534df155d7",
        "colab": {
          "base_uri": "https://localhost:8080/"
        }
      },
      "source": [
        "dataset.shape"
      ],
      "execution_count": 85,
      "outputs": [
        {
          "output_type": "execute_result",
          "data": {
            "text/plain": [
              "(4284, 13)"
            ]
          },
          "metadata": {
            "tags": []
          },
          "execution_count": 85
        }
      ]
    },
    {
      "cell_type": "code",
      "metadata": {
        "colab": {
          "base_uri": "https://localhost:8080/"
        },
        "id": "PESxBKR42K_m",
        "outputId": "93bc6e33-df35-4a74-951c-bed798c87fe4"
      },
      "source": [
        "dataset.dtypes"
      ],
      "execution_count": 27,
      "outputs": [
        {
          "output_type": "execute_result",
          "data": {
            "text/plain": [
              "ID                            object\n",
              "Is_Product_Details_viewed     object\n",
              "Session_Activity_Count         int64\n",
              "No_Items_Added_InCart        float64\n",
              "No_Items_Removed_FromCart      int64\n",
              "No_Cart_Viewed               float64\n",
              "No_Checkout_Confirmed          int64\n",
              "No_Checkout_Initiated          int64\n",
              "No_Cart_Items_Viewed           int64\n",
              "No_Customer_Login              int64\n",
              "No_Page_Viewed                 int64\n",
              "Customer_Segment_Type          int64\n",
              "Cart_Abandoned                 int64\n",
              "dtype: object"
            ]
          },
          "metadata": {
            "tags": []
          },
          "execution_count": 27
        }
      ]
    },
    {
      "cell_type": "code",
      "metadata": {
        "id": "jBMrlpQI-fOW",
        "outputId": "6a68728c-a664-4b36-9a77-67de90e04069",
        "colab": {
          "base_uri": "https://localhost:8080/"
        }
      },
      "source": [
        "dataset.info()"
      ],
      "execution_count": 86,
      "outputs": [
        {
          "output_type": "stream",
          "text": [
            "<class 'pandas.core.frame.DataFrame'>\n",
            "RangeIndex: 4284 entries, 0 to 4283\n",
            "Data columns (total 13 columns):\n",
            " #   Column                     Non-Null Count  Dtype  \n",
            "---  ------                     --------------  -----  \n",
            " 0   ID                         4284 non-null   object \n",
            " 1   Is_Product_Details_viewed  4284 non-null   object \n",
            " 2   Session_Activity_Count     4284 non-null   int64  \n",
            " 3   No_Items_Added_InCart      4275 non-null   float64\n",
            " 4   No_Items_Removed_FromCart  4284 non-null   int64  \n",
            " 5   No_Cart_Viewed             4275 non-null   float64\n",
            " 6   No_Checkout_Confirmed      4284 non-null   int64  \n",
            " 7   No_Checkout_Initiated      4284 non-null   int64  \n",
            " 8   No_Cart_Items_Viewed       4284 non-null   int64  \n",
            " 9   No_Customer_Login          4284 non-null   int64  \n",
            " 10  No_Page_Viewed             4284 non-null   int64  \n",
            " 11  Customer_Segment_Type      4284 non-null   int64  \n",
            " 12  Cart_Abandoned             4284 non-null   int64  \n",
            "dtypes: float64(2), int64(9), object(2)\n",
            "memory usage: 435.2+ KB\n"
          ],
          "name": "stdout"
        }
      ]
    },
    {
      "cell_type": "code",
      "metadata": {
        "id": "wcTUGQcp-aIK",
        "outputId": "84330a5e-0525-44a9-95d0-7e203e8d77f5",
        "colab": {
          "base_uri": "https://localhost:8080/",
          "height": 317
        }
      },
      "source": [
        "dataset.describe()"
      ],
      "execution_count": 87,
      "outputs": [
        {
          "output_type": "execute_result",
          "data": {
            "text/html": [
              "<div>\n",
              "<style scoped>\n",
              "    .dataframe tbody tr th:only-of-type {\n",
              "        vertical-align: middle;\n",
              "    }\n",
              "\n",
              "    .dataframe tbody tr th {\n",
              "        vertical-align: top;\n",
              "    }\n",
              "\n",
              "    .dataframe thead th {\n",
              "        text-align: right;\n",
              "    }\n",
              "</style>\n",
              "<table border=\"1\" class=\"dataframe\">\n",
              "  <thead>\n",
              "    <tr style=\"text-align: right;\">\n",
              "      <th></th>\n",
              "      <th>Session_Activity_Count</th>\n",
              "      <th>No_Items_Added_InCart</th>\n",
              "      <th>No_Items_Removed_FromCart</th>\n",
              "      <th>No_Cart_Viewed</th>\n",
              "      <th>No_Checkout_Confirmed</th>\n",
              "      <th>No_Checkout_Initiated</th>\n",
              "      <th>No_Cart_Items_Viewed</th>\n",
              "      <th>No_Customer_Login</th>\n",
              "      <th>No_Page_Viewed</th>\n",
              "      <th>Customer_Segment_Type</th>\n",
              "      <th>Cart_Abandoned</th>\n",
              "    </tr>\n",
              "  </thead>\n",
              "  <tbody>\n",
              "    <tr>\n",
              "      <th>count</th>\n",
              "      <td>4284.000000</td>\n",
              "      <td>4275.000000</td>\n",
              "      <td>4284.000000</td>\n",
              "      <td>4275.000000</td>\n",
              "      <td>4284.000000</td>\n",
              "      <td>4284.000000</td>\n",
              "      <td>4284.000000</td>\n",
              "      <td>4284.000000</td>\n",
              "      <td>4284.000000</td>\n",
              "      <td>4284.000000</td>\n",
              "      <td>4284.000000</td>\n",
              "    </tr>\n",
              "    <tr>\n",
              "      <th>mean</th>\n",
              "      <td>13.878151</td>\n",
              "      <td>3.488421</td>\n",
              "      <td>0.867180</td>\n",
              "      <td>1.444211</td>\n",
              "      <td>0.187208</td>\n",
              "      <td>0.980159</td>\n",
              "      <td>2.295985</td>\n",
              "      <td>0.169234</td>\n",
              "      <td>2.348506</td>\n",
              "      <td>0.563259</td>\n",
              "      <td>0.856209</td>\n",
              "    </tr>\n",
              "    <tr>\n",
              "      <th>std</th>\n",
              "      <td>15.934084</td>\n",
              "      <td>6.789401</td>\n",
              "      <td>3.070022</td>\n",
              "      <td>2.082496</td>\n",
              "      <td>0.517691</td>\n",
              "      <td>1.140525</td>\n",
              "      <td>6.052666</td>\n",
              "      <td>0.400299</td>\n",
              "      <td>2.868862</td>\n",
              "      <td>0.703856</td>\n",
              "      <td>0.350918</td>\n",
              "    </tr>\n",
              "    <tr>\n",
              "      <th>min</th>\n",
              "      <td>0.000000</td>\n",
              "      <td>0.000000</td>\n",
              "      <td>0.000000</td>\n",
              "      <td>0.000000</td>\n",
              "      <td>0.000000</td>\n",
              "      <td>0.000000</td>\n",
              "      <td>0.000000</td>\n",
              "      <td>0.000000</td>\n",
              "      <td>0.000000</td>\n",
              "      <td>0.000000</td>\n",
              "      <td>0.000000</td>\n",
              "    </tr>\n",
              "    <tr>\n",
              "      <th>25%</th>\n",
              "      <td>6.000000</td>\n",
              "      <td>1.000000</td>\n",
              "      <td>0.000000</td>\n",
              "      <td>0.000000</td>\n",
              "      <td>0.000000</td>\n",
              "      <td>0.000000</td>\n",
              "      <td>1.000000</td>\n",
              "      <td>0.000000</td>\n",
              "      <td>1.000000</td>\n",
              "      <td>0.000000</td>\n",
              "      <td>1.000000</td>\n",
              "    </tr>\n",
              "    <tr>\n",
              "      <th>50%</th>\n",
              "      <td>10.000000</td>\n",
              "      <td>2.000000</td>\n",
              "      <td>0.000000</td>\n",
              "      <td>1.000000</td>\n",
              "      <td>0.000000</td>\n",
              "      <td>1.000000</td>\n",
              "      <td>1.000000</td>\n",
              "      <td>0.000000</td>\n",
              "      <td>2.000000</td>\n",
              "      <td>0.000000</td>\n",
              "      <td>1.000000</td>\n",
              "    </tr>\n",
              "    <tr>\n",
              "      <th>75%</th>\n",
              "      <td>17.000000</td>\n",
              "      <td>5.000000</td>\n",
              "      <td>0.000000</td>\n",
              "      <td>2.000000</td>\n",
              "      <td>0.000000</td>\n",
              "      <td>1.000000</td>\n",
              "      <td>2.000000</td>\n",
              "      <td>0.000000</td>\n",
              "      <td>3.000000</td>\n",
              "      <td>1.000000</td>\n",
              "      <td>1.000000</td>\n",
              "    </tr>\n",
              "    <tr>\n",
              "      <th>max</th>\n",
              "      <td>436.000000</td>\n",
              "      <td>225.000000</td>\n",
              "      <td>50.000000</td>\n",
              "      <td>34.000000</td>\n",
              "      <td>11.000000</td>\n",
              "      <td>14.000000</td>\n",
              "      <td>256.000000</td>\n",
              "      <td>3.000000</td>\n",
              "      <td>35.000000</td>\n",
              "      <td>2.000000</td>\n",
              "      <td>1.000000</td>\n",
              "    </tr>\n",
              "  </tbody>\n",
              "</table>\n",
              "</div>"
            ],
            "text/plain": [
              "       Session_Activity_Count  ...  Cart_Abandoned\n",
              "count             4284.000000  ...     4284.000000\n",
              "mean                13.878151  ...        0.856209\n",
              "std                 15.934084  ...        0.350918\n",
              "min                  0.000000  ...        0.000000\n",
              "25%                  6.000000  ...        1.000000\n",
              "50%                 10.000000  ...        1.000000\n",
              "75%                 17.000000  ...        1.000000\n",
              "max                436.000000  ...        1.000000\n",
              "\n",
              "[8 rows x 11 columns]"
            ]
          },
          "metadata": {
            "tags": []
          },
          "execution_count": 87
        }
      ]
    },
    {
      "cell_type": "code",
      "metadata": {
        "colab": {
          "base_uri": "https://localhost:8080/"
        },
        "id": "2rdWe5tg2K_m",
        "outputId": "8a7387a0-c669-4c53-a348-1c189732065c"
      },
      "source": [
        "dataset.Cart_Abandoned=pd.Categorical(dataset.Cart_Abandoned)\n",
        "dataset.Cart_Abandoned.dtypes"
      ],
      "execution_count": 28,
      "outputs": [
        {
          "output_type": "execute_result",
          "data": {
            "text/plain": [
              "CategoricalDtype(categories=[0, 1], ordered=False)"
            ]
          },
          "metadata": {
            "tags": []
          },
          "execution_count": 28
        }
      ]
    },
    {
      "cell_type": "code",
      "metadata": {
        "id": "9vbRyIL62K_n"
      },
      "source": [
        "dataset.Customer_Segment_Type=pd.Categorical(dataset.Customer_Segment_Type)"
      ],
      "execution_count": 29,
      "outputs": []
    },
    {
      "cell_type": "code",
      "metadata": {
        "colab": {
          "base_uri": "https://localhost:8080/"
        },
        "id": "H3kJWR582K_n",
        "outputId": "5dcb177b-fd6f-4c07-ea21-eab98c6f1c16"
      },
      "source": [
        "dataset.dtypes"
      ],
      "execution_count": 30,
      "outputs": [
        {
          "output_type": "execute_result",
          "data": {
            "text/plain": [
              "ID                             object\n",
              "Is_Product_Details_viewed      object\n",
              "Session_Activity_Count          int64\n",
              "No_Items_Added_InCart         float64\n",
              "No_Items_Removed_FromCart       int64\n",
              "No_Cart_Viewed                float64\n",
              "No_Checkout_Confirmed           int64\n",
              "No_Checkout_Initiated           int64\n",
              "No_Cart_Items_Viewed            int64\n",
              "No_Customer_Login               int64\n",
              "No_Page_Viewed                  int64\n",
              "Customer_Segment_Type        category\n",
              "Cart_Abandoned               category\n",
              "dtype: object"
            ]
          },
          "metadata": {
            "tags": []
          },
          "execution_count": 30
        }
      ]
    },
    {
      "cell_type": "code",
      "metadata": {
        "colab": {
          "base_uri": "https://localhost:8080/",
          "height": 351
        },
        "id": "8VAHNrbG2K_n",
        "outputId": "9f9a8d69-36b4-4951-b2d3-14915ed55a3e"
      },
      "source": [
        "sns.countplot(dataset.Cart_Abandoned)"
      ],
      "execution_count": 31,
      "outputs": [
        {
          "output_type": "stream",
          "text": [
            "/usr/local/lib/python3.7/dist-packages/seaborn/_decorators.py:43: FutureWarning: Pass the following variable as a keyword arg: x. From version 0.12, the only valid positional argument will be `data`, and passing other arguments without an explicit keyword will result in an error or misinterpretation.\n",
            "  FutureWarning\n"
          ],
          "name": "stderr"
        },
        {
          "output_type": "execute_result",
          "data": {
            "text/plain": [
              "<matplotlib.axes._subplots.AxesSubplot at 0x7f4e8d4c3a50>"
            ]
          },
          "metadata": {
            "tags": []
          },
          "execution_count": 31
        },
        {
          "output_type": "display_data",
          "data": {
            "image/png": "[encoded data removed]",
            "text/plain": [
              "<Figure size 432x288 with 1 Axes>"
            ]
          },
          "metadata": {
            "tags": [],
            "needs_background": "light"
          }
        }
      ]
    },
    {
      "cell_type": "markdown",
      "metadata": {
        "id": "wlf2FEyJ2K_o"
      },
      "source": [
        "### EDA###########"
      ]
    },
    {
      "cell_type": "markdown",
      "metadata": {
        "id": "Y-JFIBTj2K_o"
      },
      "source": [
        "##### Univariate#####"
      ]
    },
    {
      "cell_type": "code",
      "metadata": {
        "id": "0yuO0O5p2K_o"
      },
      "source": [
        "num=dataset.select_dtypes(include=[\"float64\",\"int64\"])\n",
        "cat=dataset.select_dtypes(include=[\"object\",\"category\"]).drop([\"ID\"],axis=1)"
      ],
      "execution_count": 32,
      "outputs": []
    },
    {
      "cell_type": "code",
      "metadata": {
        "colab": {
          "base_uri": "https://localhost:8080/"
        },
        "id": "iTJN8rm92K_p",
        "outputId": "9151abaa-893b-420d-a9ed-6f72360d86a6"
      },
      "source": [
        "num.shape"
      ],
      "execution_count": 33,
      "outputs": [
        {
          "output_type": "execute_result",
          "data": {
            "text/plain": [
              "(4284, 9)"
            ]
          },
          "metadata": {
            "tags": []
          },
          "execution_count": 33
        }
      ]
    },
    {
      "cell_type": "code",
      "metadata": {
        "colab": {
          "base_uri": "https://localhost:8080/",
          "height": 320
        },
        "id": "a9YRMXkI2K_p",
        "outputId": "0b244eec-d45a-45f3-ef75-f19db4a6d0c7"
      },
      "source": [
        "num.hist(bins=15, figsize=(20, 6), layout=(2, 5));"
      ],
      "execution_count": 34,
      "outputs": [
        {
          "output_type": "display_data",
          "data": {
            "image/png": "[encoded data removed]",
            "text/plain": [
              "<Figure size 1440x432 with 10 Axes>"
            ]
          },
          "metadata": {
            "tags": [],
            "needs_background": "light"
          }
        }
      ]
    },
    {
      "cell_type": "code",
      "metadata": {
        "colab": {
          "base_uri": "https://localhost:8080/",
          "height": 403
        },
        "id": "GxHjyQYn2K_p",
        "outputId": "b8526329-b2e9-4881-9ac9-d179b4360397"
      },
      "source": [
        "f, ax = plt.subplots(nrows=1,ncols=3,figsize=(20, 8))\n",
        "for i,j in zip(cat.columns.tolist(), ax.flatten()):\n",
        "    sns.countplot(x=cat[i],ax=j)"
      ],
      "execution_count": 35,
      "outputs": [
        {
          "output_type": "display_data",
          "data": {
            "image/png": "[encoded data removed]",
            "text/plain": [
              "<Figure size 1440x576 with 3 Axes>"
            ]
          },
          "metadata": {
            "tags": [],
            "needs_background": "light"
          }
        }
      ]
    },
    {
      "cell_type": "markdown",
      "metadata": {
        "id": "es0lU3Q-2K_q"
      },
      "source": [
        "##### BiVariate#####"
      ]
    },
    {
      "cell_type": "markdown",
      "metadata": {
        "id": "XuyztGlV2K_q"
      },
      "source": [
        "###### 1.FOR CATEGORICAL :Is_Product_Details_viewed Vrs Cart_Abandoned"
      ]
    },
    {
      "cell_type": "markdown",
      "metadata": {
        "id": "bYxQsTkX2K_q"
      },
      "source": [
        "#### Part 1 : If a customer is viewing the product details then what is the chance that he is doing cart abandonment?"
      ]
    },
    {
      "cell_type": "code",
      "metadata": {
        "colab": {
          "base_uri": "https://localhost:8080/",
          "height": 0
        },
        "id": "DuXIr8B62K_r",
        "outputId": "0cbddf1d-5d56-4946-e150-dcfbed0ff17a"
      },
      "source": [
        "sns.countplot(x=dataset.Is_Product_Details_viewed,hue=dataset.Cart_Abandoned)"
      ],
      "execution_count": 36,
      "outputs": [
        {
          "output_type": "execute_result",
          "data": {
            "text/plain": [
              "<matplotlib.axes._subplots.AxesSubplot at 0x7f4e8d1b19d0>"
            ]
          },
          "metadata": {
            "tags": []
          },
          "execution_count": 36
        },
        {
          "output_type": "display_data",
          "data": {
            "image/png": "[encoded data removed]",
            "text/plain": [
              "<Figure size 432x288 with 1 Axes>"
            ]
          },
          "metadata": {
            "tags": [],
            "needs_background": "light"
          }
        }
      ]
    },
    {
      "cell_type": "markdown",
      "metadata": {
        "id": "D6Bds5xj2K_r"
      },
      "source": [
        "##### 2.1 FOR NUMERICAL : Numerical Attributes Vrs Cart_Abandoned : By BoxPlot"
      ]
    },
    {
      "cell_type": "code",
      "metadata": {
        "colab": {
          "base_uri": "https://localhost:8080/",
          "height": 0
        },
        "id": "fqPlzRQ02K_r",
        "outputId": "6059bea9-882e-47b9-c01c-b3fd87ce2c52"
      },
      "source": [
        "fig, ax = plt.subplots(2, 5, figsize=(20, 10))\n",
        "for var, subplot in zip(num.columns.tolist(), ax.flatten()):\n",
        "    sns.boxplot(x=cat[\"Cart_Abandoned\"], y=num[var], ax=subplot)"
      ],
      "execution_count": 37,
      "outputs": [
        {
          "output_type": "display_data",
          "data": {
            "image/png": "[encoded data removed]",
            "text/plain": [
              "<Figure size 1440x720 with 10 Axes>"
            ]
          },
          "metadata": {
            "tags": [],
            "needs_background": "light"
          }
        }
      ]
    },
    {
      "cell_type": "markdown",
      "metadata": {
        "id": "qUIiOKJI2K_s"
      },
      "source": [
        "##### 2.2 Correlation plot of Independent attributes"
      ]
    },
    {
      "cell_type": "code",
      "metadata": {
        "colab": {
          "base_uri": "https://localhost:8080/",
          "height": 0
        },
        "id": "2RnxbSyY2K_s",
        "outputId": "0f5d4c92-283c-49b3-f262-99fc9b85928f"
      },
      "source": [
        "corr = num.corr()\n",
        "sns.heatmap(corr)"
      ],
      "execution_count": 38,
      "outputs": [
        {
          "output_type": "execute_result",
          "data": {
            "text/plain": [
              "<matplotlib.axes._subplots.AxesSubplot at 0x7f4e8ce98f10>"
            ]
          },
          "metadata": {
            "tags": []
          },
          "execution_count": 38
        },
        {
          "output_type": "display_data",
          "data": {
            "image/png": "[encoded data removed]",
            "text/plain": [
              "<Figure size 432x288 with 2 Axes>"
            ]
          },
          "metadata": {
            "tags": [],
            "needs_background": "light"
          }
        }
      ]
    },
    {
      "cell_type": "markdown",
      "metadata": {
        "id": "F9KfIUXT2K_s"
      },
      "source": [
        "## 3. Data Preparation"
      ]
    },
    {
      "cell_type": "markdown",
      "metadata": {
        "id": "h6zPIDQq2K_t"
      },
      "source": [
        "###### imputing missing values wherever needed"
      ]
    },
    {
      "cell_type": "code",
      "metadata": {
        "id": "nJT8eDBG2K_t"
      },
      "source": [
        "data = dataset.copy()"
      ],
      "execution_count": 39,
      "outputs": []
    },
    {
      "cell_type": "code",
      "metadata": {
        "colab": {
          "base_uri": "https://localhost:8080/"
        },
        "id": "ul8Dpkau2K_u",
        "outputId": "18eb8bd5-4c26-4baa-fcca-5e9af5cccbd2"
      },
      "source": [
        "data.isna().sum()"
      ],
      "execution_count": 40,
      "outputs": [
        {
          "output_type": "execute_result",
          "data": {
            "text/plain": [
              "ID                           0\n",
              "Is_Product_Details_viewed    0\n",
              "Session_Activity_Count       0\n",
              "No_Items_Added_InCart        9\n",
              "No_Items_Removed_FromCart    0\n",
              "No_Cart_Viewed               9\n",
              "No_Checkout_Confirmed        0\n",
              "No_Checkout_Initiated        0\n",
              "No_Cart_Items_Viewed         0\n",
              "No_Customer_Login            0\n",
              "No_Page_Viewed               0\n",
              "Customer_Segment_Type        0\n",
              "Cart_Abandoned               0\n",
              "dtype: int64"
            ]
          },
          "metadata": {
            "tags": []
          },
          "execution_count": 40
        }
      ]
    },
    {
      "cell_type": "code",
      "metadata": {
        "colab": {
          "base_uri": "https://localhost:8080/"
        },
        "id": "E0E93wyh2K_w",
        "outputId": "9f801b00-a211-41a4-f7b9-f58bb39da3be"
      },
      "source": [
        "null_col = data.columns[data.isna().any()].tolist()\n",
        "null_col"
      ],
      "execution_count": 41,
      "outputs": [
        {
          "output_type": "execute_result",
          "data": {
            "text/plain": [
              "['No_Items_Added_InCart', 'No_Cart_Viewed']"
            ]
          },
          "metadata": {
            "tags": []
          },
          "execution_count": 41
        }
      ]
    },
    {
      "cell_type": "code",
      "metadata": {
        "colab": {
          "base_uri": "https://localhost:8080/",
          "height": 204
        },
        "id": "SWPPre9S2K_w",
        "scrolled": true,
        "outputId": "1ee62678-932d-4e97-c8bc-8ab32f243785"
      },
      "source": [
        "data[null_col].head()"
      ],
      "execution_count": 42,
      "outputs": [
        {
          "output_type": "execute_result",
          "data": {
            "text/html": [
              "<div>\n",
              "<style scoped>\n",
              "    .dataframe tbody tr th:only-of-type {\n",
              "        vertical-align: middle;\n",
              "    }\n",
              "\n",
              "    .dataframe tbody tr th {\n",
              "        vertical-align: top;\n",
              "    }\n",
              "\n",
              "    .dataframe thead th {\n",
              "        text-align: right;\n",
              "    }\n",
              "</style>\n",
              "<table border=\"1\" class=\"dataframe\">\n",
              "  <thead>\n",
              "    <tr style=\"text-align: right;\">\n",
              "      <th></th>\n",
              "      <th>No_Items_Added_InCart</th>\n",
              "      <th>No_Cart_Viewed</th>\n",
              "    </tr>\n",
              "  </thead>\n",
              "  <tbody>\n",
              "    <tr>\n",
              "      <th>0</th>\n",
              "      <td>1.0</td>\n",
              "      <td>0.0</td>\n",
              "    </tr>\n",
              "    <tr>\n",
              "      <th>1</th>\n",
              "      <td>0.0</td>\n",
              "      <td>2.0</td>\n",
              "    </tr>\n",
              "    <tr>\n",
              "      <th>2</th>\n",
              "      <td>5.0</td>\n",
              "      <td>0.0</td>\n",
              "    </tr>\n",
              "    <tr>\n",
              "      <th>3</th>\n",
              "      <td>0.0</td>\n",
              "      <td>2.0</td>\n",
              "    </tr>\n",
              "    <tr>\n",
              "      <th>4</th>\n",
              "      <td>14.0</td>\n",
              "      <td>1.0</td>\n",
              "    </tr>\n",
              "  </tbody>\n",
              "</table>\n",
              "</div>"
            ],
            "text/plain": [
              "   No_Items_Added_InCart  No_Cart_Viewed\n",
              "0                    1.0             0.0\n",
              "1                    0.0             2.0\n",
              "2                    5.0             0.0\n",
              "3                    0.0             2.0\n",
              "4                   14.0             1.0"
            ]
          },
          "metadata": {
            "tags": []
          },
          "execution_count": 42
        }
      ]
    },
    {
      "cell_type": "code",
      "metadata": {
        "colab": {
          "base_uri": "https://localhost:8080/"
        },
        "id": "pTe44N8Y2K_x",
        "outputId": "74b436ef-c573-4a45-fa0d-d6d67c1079ec"
      },
      "source": [
        "data.isna().sum()"
      ],
      "execution_count": 43,
      "outputs": [
        {
          "output_type": "execute_result",
          "data": {
            "text/plain": [
              "ID                           0\n",
              "Is_Product_Details_viewed    0\n",
              "Session_Activity_Count       0\n",
              "No_Items_Added_InCart        9\n",
              "No_Items_Removed_FromCart    0\n",
              "No_Cart_Viewed               9\n",
              "No_Checkout_Confirmed        0\n",
              "No_Checkout_Initiated        0\n",
              "No_Cart_Items_Viewed         0\n",
              "No_Customer_Login            0\n",
              "No_Page_Viewed               0\n",
              "Customer_Segment_Type        0\n",
              "Cart_Abandoned               0\n",
              "dtype: int64"
            ]
          },
          "metadata": {
            "tags": []
          },
          "execution_count": 43
        }
      ]
    },
    {
      "cell_type": "code",
      "metadata": {
        "colab": {
          "base_uri": "https://localhost:8080/"
        },
        "id": "Ct5onTEs2K_x",
        "outputId": "a3ce61a8-c7fb-47b4-977f-e51f01721dc5"
      },
      "source": [
        "data.dtypes"
      ],
      "execution_count": 44,
      "outputs": [
        {
          "output_type": "execute_result",
          "data": {
            "text/plain": [
              "ID                             object\n",
              "Is_Product_Details_viewed      object\n",
              "Session_Activity_Count          int64\n",
              "No_Items_Added_InCart         float64\n",
              "No_Items_Removed_FromCart       int64\n",
              "No_Cart_Viewed                float64\n",
              "No_Checkout_Confirmed           int64\n",
              "No_Checkout_Initiated           int64\n",
              "No_Cart_Items_Viewed            int64\n",
              "No_Customer_Login               int64\n",
              "No_Page_Viewed                  int64\n",
              "Customer_Segment_Type        category\n",
              "Cart_Abandoned               category\n",
              "dtype: object"
            ]
          },
          "metadata": {
            "tags": []
          },
          "execution_count": 44
        }
      ]
    },
    {
      "cell_type": "code",
      "metadata": {
        "id": "-G2gJaU_7TEd"
      },
      "source": [
        "data['No_Items_Added_InCart'] = data['No_Items_Added_InCart'].fillna(data['No_Items_Added_InCart'].mean()) "
      ],
      "execution_count": 45,
      "outputs": []
    },
    {
      "cell_type": "code",
      "metadata": {
        "id": "oYulrR7f7fkW"
      },
      "source": [
        "data['No_Cart_Viewed'] = data['No_Cart_Viewed'].fillna(data['No_Cart_Viewed'].mean()) "
      ],
      "execution_count": 46,
      "outputs": []
    },
    {
      "cell_type": "code",
      "metadata": {
        "id": "oSzWcCRQ2K_x"
      },
      "source": [
        "data[null_col] = data[null_col].astype(\"int64\")"
      ],
      "execution_count": 47,
      "outputs": []
    },
    {
      "cell_type": "code",
      "metadata": {
        "colab": {
          "base_uri": "https://localhost:8080/"
        },
        "id": "BFL-thI42K_y",
        "outputId": "d3f03daa-ed61-455b-c3e9-b96c33ae0580"
      },
      "source": [
        "data.isna().sum()"
      ],
      "execution_count": 48,
      "outputs": [
        {
          "output_type": "execute_result",
          "data": {
            "text/plain": [
              "ID                           0\n",
              "Is_Product_Details_viewed    0\n",
              "Session_Activity_Count       0\n",
              "No_Items_Added_InCart        0\n",
              "No_Items_Removed_FromCart    0\n",
              "No_Cart_Viewed               0\n",
              "No_Checkout_Confirmed        0\n",
              "No_Checkout_Initiated        0\n",
              "No_Cart_Items_Viewed         0\n",
              "No_Customer_Login            0\n",
              "No_Page_Viewed               0\n",
              "Customer_Segment_Type        0\n",
              "Cart_Abandoned               0\n",
              "dtype: int64"
            ]
          },
          "metadata": {
            "tags": []
          },
          "execution_count": 48
        }
      ]
    },
    {
      "cell_type": "markdown",
      "metadata": {
        "id": "2D-63wLU2K_y"
      },
      "source": [
        "###### 1.Taking care of Outliers by Normalizing the Data : By MinMax Normalization"
      ]
    },
    {
      "cell_type": "code",
      "metadata": {
        "id": "pNgPfHd82K_y"
      },
      "source": [
        "num=data.select_dtypes(include=[\"int64\"])\n",
        "cat=data.select_dtypes(include=[\"object\",\"category\"]).drop([\"ID\"],axis=1)"
      ],
      "execution_count": 49,
      "outputs": []
    },
    {
      "cell_type": "code",
      "metadata": {
        "colab": {
          "base_uri": "https://localhost:8080/"
        },
        "id": "PY94K1-q2K_y",
        "outputId": "4c46a010-72e8-476d-9e96-447ead5bedc4"
      },
      "source": [
        "min_max_scaler = MinMaxScaler()\n",
        "x_scaled = min_max_scaler.fit_transform(num)\n",
        "x_scaled"
      ],
      "execution_count": 50,
      "outputs": [
        {
          "output_type": "execute_result",
          "data": {
            "text/plain": [
              "array([[0.00917431, 0.00444444, 0.        , ..., 0.00390625, 0.        ,\n",
              "        0.        ],\n",
              "       [0.08715596, 0.        , 0.        , ..., 0.0078125 , 0.        ,\n",
              "        0.05714286],\n",
              "       [0.01834862, 0.02222222, 0.        , ..., 0.00390625, 0.        ,\n",
              "        0.        ],\n",
              "       ...,\n",
              "       [0.00917431, 0.00444444, 0.        , ..., 0.00390625, 0.        ,\n",
              "        0.        ],\n",
              "       [0.01834862, 0.01333333, 0.        , ..., 0.00390625, 0.        ,\n",
              "        0.05714286],\n",
              "       [0.07110092, 0.01777778, 0.        , ..., 0.02734375, 0.        ,\n",
              "        0.02857143]])"
            ]
          },
          "metadata": {
            "tags": []
          },
          "execution_count": 50
        }
      ]
    },
    {
      "cell_type": "code",
      "metadata": {
        "colab": {
          "base_uri": "https://localhost:8080/",
          "height": 162
        },
        "id": "Vt4PcMaJ2K_z",
        "outputId": "e82e5577-be18-4462-8dea-715bab40c334"
      },
      "source": [
        "df_scaled = pd.DataFrame(x_scaled,columns=num.columns)\n",
        "df_scaled.head(3)"
      ],
      "execution_count": 51,
      "outputs": [
        {
          "output_type": "execute_result",
          "data": {
            "text/html": [
              "<div>\n",
              "<style scoped>\n",
              "    .dataframe tbody tr th:only-of-type {\n",
              "        vertical-align: middle;\n",
              "    }\n",
              "\n",
              "    .dataframe tbody tr th {\n",
              "        vertical-align: top;\n",
              "    }\n",
              "\n",
              "    .dataframe thead th {\n",
              "        text-align: right;\n",
              "    }\n",
              "</style>\n",
              "<table border=\"1\" class=\"dataframe\">\n",
              "  <thead>\n",
              "    <tr style=\"text-align: right;\">\n",
              "      <th></th>\n",
              "      <th>Session_Activity_Count</th>\n",
              "      <th>No_Items_Added_InCart</th>\n",
              "      <th>No_Items_Removed_FromCart</th>\n",
              "      <th>No_Cart_Viewed</th>\n",
              "      <th>No_Checkout_Confirmed</th>\n",
              "      <th>No_Checkout_Initiated</th>\n",
              "      <th>No_Cart_Items_Viewed</th>\n",
              "      <th>No_Customer_Login</th>\n",
              "      <th>No_Page_Viewed</th>\n",
              "    </tr>\n",
              "  </thead>\n",
              "  <tbody>\n",
              "    <tr>\n",
              "      <th>0</th>\n",
              "      <td>0.009174</td>\n",
              "      <td>0.004444</td>\n",
              "      <td>0.0</td>\n",
              "      <td>0.000000</td>\n",
              "      <td>0.000000</td>\n",
              "      <td>0.000000</td>\n",
              "      <td>0.003906</td>\n",
              "      <td>0.0</td>\n",
              "      <td>0.000000</td>\n",
              "    </tr>\n",
              "    <tr>\n",
              "      <th>1</th>\n",
              "      <td>0.087156</td>\n",
              "      <td>0.000000</td>\n",
              "      <td>0.0</td>\n",
              "      <td>0.058824</td>\n",
              "      <td>0.000000</td>\n",
              "      <td>0.000000</td>\n",
              "      <td>0.007812</td>\n",
              "      <td>0.0</td>\n",
              "      <td>0.057143</td>\n",
              "    </tr>\n",
              "    <tr>\n",
              "      <th>2</th>\n",
              "      <td>0.018349</td>\n",
              "      <td>0.022222</td>\n",
              "      <td>0.0</td>\n",
              "      <td>0.000000</td>\n",
              "      <td>0.090909</td>\n",
              "      <td>0.071429</td>\n",
              "      <td>0.003906</td>\n",
              "      <td>0.0</td>\n",
              "      <td>0.000000</td>\n",
              "    </tr>\n",
              "  </tbody>\n",
              "</table>\n",
              "</div>"
            ],
            "text/plain": [
              "   Session_Activity_Count  ...  No_Page_Viewed\n",
              "0                0.009174  ...        0.000000\n",
              "1                0.087156  ...        0.057143\n",
              "2                0.018349  ...        0.000000\n",
              "\n",
              "[3 rows x 9 columns]"
            ]
          },
          "metadata": {
            "tags": []
          },
          "execution_count": 51
        }
      ]
    },
    {
      "cell_type": "code",
      "metadata": {
        "colab": {
          "base_uri": "https://localhost:8080/",
          "height": 320
        },
        "id": "wXcbcXKG2K_z",
        "outputId": "0814fee9-df0f-4653-9f68-f2d622e7fbb3"
      },
      "source": [
        "df_scaled.hist(bins=15, figsize=(20, 6), layout=(2, 5));"
      ],
      "execution_count": 52,
      "outputs": [
        {
          "output_type": "display_data",
          "data": {
            "image/png": "[encoded data removed]",
            "text/plain": [
              "<Figure size 1440x432 with 10 Axes>"
            ]
          },
          "metadata": {
            "tags": [],
            "needs_background": "light"
          }
        }
      ]
    },
    {
      "cell_type": "code",
      "metadata": {
        "colab": {
          "base_uri": "https://localhost:8080/",
          "height": 478
        },
        "id": "dy8xJvP72K_z",
        "outputId": "5ae1889a-ecc8-4af3-e971-7bb658a7bd71"
      },
      "source": [
        "fig, ax = plt.subplots(2, 5, figsize=(20, 10))\n",
        "for var, subplot in zip(df_scaled.columns.tolist(), ax.flatten()):\n",
        "    sns.boxplot(y=df_scaled[var], ax=subplot)"
      ],
      "execution_count": 53,
      "outputs": [
        {
          "output_type": "display_data",
          "data": {
            "image/png": "[encoded data removed]",
            "text/plain": [
              "<Figure size 1440x720 with 10 Axes>"
            ]
          },
          "metadata": {
            "tags": [],
            "needs_background": "light"
          }
        }
      ]
    },
    {
      "cell_type": "markdown",
      "metadata": {
        "id": "Fn7Yk_pU2K_z"
      },
      "source": [
        "###### 2.Taking care of Outliers by Normalizing the Data : By BoxCox Normalization"
      ]
    },
    {
      "cell_type": "code",
      "metadata": {
        "id": "dYSF8pzE2K_0"
      },
      "source": [
        "\n",
        "df_scaled_boxcox=boxcox1p(num, 0)\n"
      ],
      "execution_count": 54,
      "outputs": []
    },
    {
      "cell_type": "code",
      "metadata": {
        "colab": {
          "base_uri": "https://localhost:8080/",
          "height": 478
        },
        "id": "SOQBw0Gz2K_1",
        "outputId": "df60b978-168f-45c1-9b90-3dd778b3f943"
      },
      "source": [
        "fig, ax = plt.subplots(2, 5, figsize=(20, 10))\n",
        "for var, subplot in zip(df_scaled_boxcox.columns.tolist(), ax.flatten()):\n",
        "    sns.boxplot(y=df_scaled_boxcox[var], ax=subplot)"
      ],
      "execution_count": 55,
      "outputs": [
        {
          "output_type": "display_data",
          "data": {
            "image/png": "[encoded data removed]",
            "text/plain": [
              "<Figure size 1440x720 with 10 Axes>"
            ]
          },
          "metadata": {
            "tags": [],
            "needs_background": "light"
          }
        }
      ]
    },
    {
      "cell_type": "code",
      "metadata": {
        "colab": {
          "base_uri": "https://localhost:8080/",
          "height": 319
        },
        "id": "f6YM1uII2K_2",
        "outputId": "3a9d9103-f2c6-43be-de46-5181d21ffe82"
      },
      "source": [
        "df_scaled_boxcox.hist(bins=15, figsize=(20, 6), layout=(2, 5));"
      ],
      "execution_count": 56,
      "outputs": [
        {
          "output_type": "display_data",
          "data": {
            "image/png": "[encoded data removed]",
            "text/plain": [
              "<Figure size 1440x432 with 10 Axes>"
            ]
          },
          "metadata": {
            "tags": [],
            "needs_background": "light"
          }
        }
      ]
    },
    {
      "cell_type": "code",
      "metadata": {
        "colab": {
          "base_uri": "https://localhost:8080/",
          "height": 162
        },
        "id": "TnpZve6l2K_2",
        "outputId": "aba5ed4d-e0b9-4b9f-fed8-33312c4b2dc2"
      },
      "source": [
        "df_scaled_boxcox.head(3)"
      ],
      "execution_count": 57,
      "outputs": [
        {
          "output_type": "execute_result",
          "data": {
            "text/html": [
              "<div>\n",
              "<style scoped>\n",
              "    .dataframe tbody tr th:only-of-type {\n",
              "        vertical-align: middle;\n",
              "    }\n",
              "\n",
              "    .dataframe tbody tr th {\n",
              "        vertical-align: top;\n",
              "    }\n",
              "\n",
              "    .dataframe thead th {\n",
              "        text-align: right;\n",
              "    }\n",
              "</style>\n",
              "<table border=\"1\" class=\"dataframe\">\n",
              "  <thead>\n",
              "    <tr style=\"text-align: right;\">\n",
              "      <th></th>\n",
              "      <th>Session_Activity_Count</th>\n",
              "      <th>No_Items_Added_InCart</th>\n",
              "      <th>No_Items_Removed_FromCart</th>\n",
              "      <th>No_Cart_Viewed</th>\n",
              "      <th>No_Checkout_Confirmed</th>\n",
              "      <th>No_Checkout_Initiated</th>\n",
              "      <th>No_Cart_Items_Viewed</th>\n",
              "      <th>No_Customer_Login</th>\n",
              "      <th>No_Page_Viewed</th>\n",
              "    </tr>\n",
              "  </thead>\n",
              "  <tbody>\n",
              "    <tr>\n",
              "      <th>0</th>\n",
              "      <td>1.609438</td>\n",
              "      <td>0.693147</td>\n",
              "      <td>0.0</td>\n",
              "      <td>0.000000</td>\n",
              "      <td>0.000000</td>\n",
              "      <td>0.000000</td>\n",
              "      <td>0.693147</td>\n",
              "      <td>0.0</td>\n",
              "      <td>0.000000</td>\n",
              "    </tr>\n",
              "    <tr>\n",
              "      <th>1</th>\n",
              "      <td>3.663562</td>\n",
              "      <td>0.000000</td>\n",
              "      <td>0.0</td>\n",
              "      <td>1.098612</td>\n",
              "      <td>0.000000</td>\n",
              "      <td>0.000000</td>\n",
              "      <td>1.098612</td>\n",
              "      <td>0.0</td>\n",
              "      <td>1.098612</td>\n",
              "    </tr>\n",
              "    <tr>\n",
              "      <th>2</th>\n",
              "      <td>2.197225</td>\n",
              "      <td>1.791759</td>\n",
              "      <td>0.0</td>\n",
              "      <td>0.000000</td>\n",
              "      <td>0.693147</td>\n",
              "      <td>0.693147</td>\n",
              "      <td>0.693147</td>\n",
              "      <td>0.0</td>\n",
              "      <td>0.000000</td>\n",
              "    </tr>\n",
              "  </tbody>\n",
              "</table>\n",
              "</div>"
            ],
            "text/plain": [
              "   Session_Activity_Count  ...  No_Page_Viewed\n",
              "0                1.609438  ...        0.000000\n",
              "1                3.663562  ...        1.098612\n",
              "2                2.197225  ...        0.000000\n",
              "\n",
              "[3 rows x 9 columns]"
            ]
          },
          "metadata": {
            "tags": []
          },
          "execution_count": 57
        }
      ]
    },
    {
      "cell_type": "code",
      "metadata": {
        "id": "Rq9CIjI32K_3"
      },
      "source": [
        "df_scaled_boxcox[\"ID\"]=data.ID\n",
        "df_scaled_boxcox.set_index('ID',inplace=True)\n"
      ],
      "execution_count": 58,
      "outputs": []
    },
    {
      "cell_type": "code",
      "metadata": {
        "id": "sf08L1qc2K_3",
        "scrolled": true
      },
      "source": [
        "df_scaled_boxcox.reset_index(inplace=True)"
      ],
      "execution_count": 59,
      "outputs": []
    },
    {
      "cell_type": "code",
      "metadata": {
        "colab": {
          "base_uri": "https://localhost:8080/",
          "height": 162
        },
        "id": "J71sXnRT2K_3",
        "outputId": "1cfc41a5-412d-4c27-e1ca-85c39a8ba7c0"
      },
      "source": [
        "df_final=df_scaled_boxcox.join(cat)\n",
        "df_final.head(3)"
      ],
      "execution_count": 60,
      "outputs": [
        {
          "output_type": "execute_result",
          "data": {
            "text/html": [
              "<div>\n",
              "<style scoped>\n",
              "    .dataframe tbody tr th:only-of-type {\n",
              "        vertical-align: middle;\n",
              "    }\n",
              "\n",
              "    .dataframe tbody tr th {\n",
              "        vertical-align: top;\n",
              "    }\n",
              "\n",
              "    .dataframe thead th {\n",
              "        text-align: right;\n",
              "    }\n",
              "</style>\n",
              "<table border=\"1\" class=\"dataframe\">\n",
              "  <thead>\n",
              "    <tr style=\"text-align: right;\">\n",
              "      <th></th>\n",
              "      <th>ID</th>\n",
              "      <th>Session_Activity_Count</th>\n",
              "      <th>No_Items_Added_InCart</th>\n",
              "      <th>No_Items_Removed_FromCart</th>\n",
              "      <th>No_Cart_Viewed</th>\n",
              "      <th>No_Checkout_Confirmed</th>\n",
              "      <th>No_Checkout_Initiated</th>\n",
              "      <th>No_Cart_Items_Viewed</th>\n",
              "      <th>No_Customer_Login</th>\n",
              "      <th>No_Page_Viewed</th>\n",
              "      <th>Is_Product_Details_viewed</th>\n",
              "      <th>Customer_Segment_Type</th>\n",
              "      <th>Cart_Abandoned</th>\n",
              "    </tr>\n",
              "  </thead>\n",
              "  <tbody>\n",
              "    <tr>\n",
              "      <th>0</th>\n",
              "      <td>Session_ID_0</td>\n",
              "      <td>1.609438</td>\n",
              "      <td>0.693147</td>\n",
              "      <td>0.0</td>\n",
              "      <td>0.000000</td>\n",
              "      <td>0.000000</td>\n",
              "      <td>0.000000</td>\n",
              "      <td>0.693147</td>\n",
              "      <td>0.0</td>\n",
              "      <td>0.000000</td>\n",
              "      <td>Yes</td>\n",
              "      <td>0</td>\n",
              "      <td>1</td>\n",
              "    </tr>\n",
              "    <tr>\n",
              "      <th>1</th>\n",
              "      <td>Session_ID_1</td>\n",
              "      <td>3.663562</td>\n",
              "      <td>0.000000</td>\n",
              "      <td>0.0</td>\n",
              "      <td>1.098612</td>\n",
              "      <td>0.000000</td>\n",
              "      <td>0.000000</td>\n",
              "      <td>1.098612</td>\n",
              "      <td>0.0</td>\n",
              "      <td>1.098612</td>\n",
              "      <td>No</td>\n",
              "      <td>0</td>\n",
              "      <td>1</td>\n",
              "    </tr>\n",
              "    <tr>\n",
              "      <th>2</th>\n",
              "      <td>Session_ID_2</td>\n",
              "      <td>2.197225</td>\n",
              "      <td>1.791759</td>\n",
              "      <td>0.0</td>\n",
              "      <td>0.000000</td>\n",
              "      <td>0.693147</td>\n",
              "      <td>0.693147</td>\n",
              "      <td>0.693147</td>\n",
              "      <td>0.0</td>\n",
              "      <td>0.000000</td>\n",
              "      <td>No</td>\n",
              "      <td>1</td>\n",
              "      <td>0</td>\n",
              "    </tr>\n",
              "  </tbody>\n",
              "</table>\n",
              "</div>"
            ],
            "text/plain": [
              "             ID  Session_Activity_Count  ...  Customer_Segment_Type  Cart_Abandoned\n",
              "0  Session_ID_0                1.609438  ...                      0               1\n",
              "1  Session_ID_1                3.663562  ...                      0               1\n",
              "2  Session_ID_2                2.197225  ...                      1               0\n",
              "\n",
              "[3 rows x 13 columns]"
            ]
          },
          "metadata": {
            "tags": []
          },
          "execution_count": 60
        }
      ]
    },
    {
      "cell_type": "code",
      "metadata": {
        "colab": {
          "base_uri": "https://localhost:8080/",
          "height": 162
        },
        "id": "n8ONWkkC2K_4",
        "outputId": "ad9d8c3f-208a-4d7b-8739-19c5796b288d"
      },
      "source": [
        "df_final.Is_Product_Details_viewed.replace({\"Yes\":1,\"No\":0},inplace=True)\n",
        "df_final.head(3)"
      ],
      "execution_count": 61,
      "outputs": [
        {
          "output_type": "execute_result",
          "data": {
            "text/html": [
              "<div>\n",
              "<style scoped>\n",
              "    .dataframe tbody tr th:only-of-type {\n",
              "        vertical-align: middle;\n",
              "    }\n",
              "\n",
              "    .dataframe tbody tr th {\n",
              "        vertical-align: top;\n",
              "    }\n",
              "\n",
              "    .dataframe thead th {\n",
              "        text-align: right;\n",
              "    }\n",
              "</style>\n",
              "<table border=\"1\" class=\"dataframe\">\n",
              "  <thead>\n",
              "    <tr style=\"text-align: right;\">\n",
              "      <th></th>\n",
              "      <th>ID</th>\n",
              "      <th>Session_Activity_Count</th>\n",
              "      <th>No_Items_Added_InCart</th>\n",
              "      <th>No_Items_Removed_FromCart</th>\n",
              "      <th>No_Cart_Viewed</th>\n",
              "      <th>No_Checkout_Confirmed</th>\n",
              "      <th>No_Checkout_Initiated</th>\n",
              "      <th>No_Cart_Items_Viewed</th>\n",
              "      <th>No_Customer_Login</th>\n",
              "      <th>No_Page_Viewed</th>\n",
              "      <th>Is_Product_Details_viewed</th>\n",
              "      <th>Customer_Segment_Type</th>\n",
              "      <th>Cart_Abandoned</th>\n",
              "    </tr>\n",
              "  </thead>\n",
              "  <tbody>\n",
              "    <tr>\n",
              "      <th>0</th>\n",
              "      <td>Session_ID_0</td>\n",
              "      <td>1.609438</td>\n",
              "      <td>0.693147</td>\n",
              "      <td>0.0</td>\n",
              "      <td>0.000000</td>\n",
              "      <td>0.000000</td>\n",
              "      <td>0.000000</td>\n",
              "      <td>0.693147</td>\n",
              "      <td>0.0</td>\n",
              "      <td>0.000000</td>\n",
              "      <td>1</td>\n",
              "      <td>0</td>\n",
              "      <td>1</td>\n",
              "    </tr>\n",
              "    <tr>\n",
              "      <th>1</th>\n",
              "      <td>Session_ID_1</td>\n",
              "      <td>3.663562</td>\n",
              "      <td>0.000000</td>\n",
              "      <td>0.0</td>\n",
              "      <td>1.098612</td>\n",
              "      <td>0.000000</td>\n",
              "      <td>0.000000</td>\n",
              "      <td>1.098612</td>\n",
              "      <td>0.0</td>\n",
              "      <td>1.098612</td>\n",
              "      <td>0</td>\n",
              "      <td>0</td>\n",
              "      <td>1</td>\n",
              "    </tr>\n",
              "    <tr>\n",
              "      <th>2</th>\n",
              "      <td>Session_ID_2</td>\n",
              "      <td>2.197225</td>\n",
              "      <td>1.791759</td>\n",
              "      <td>0.0</td>\n",
              "      <td>0.000000</td>\n",
              "      <td>0.693147</td>\n",
              "      <td>0.693147</td>\n",
              "      <td>0.693147</td>\n",
              "      <td>0.0</td>\n",
              "      <td>0.000000</td>\n",
              "      <td>0</td>\n",
              "      <td>1</td>\n",
              "      <td>0</td>\n",
              "    </tr>\n",
              "  </tbody>\n",
              "</table>\n",
              "</div>"
            ],
            "text/plain": [
              "             ID  Session_Activity_Count  ...  Customer_Segment_Type  Cart_Abandoned\n",
              "0  Session_ID_0                1.609438  ...                      0               1\n",
              "1  Session_ID_1                3.663562  ...                      0               1\n",
              "2  Session_ID_2                2.197225  ...                      1               0\n",
              "\n",
              "[3 rows x 13 columns]"
            ]
          },
          "metadata": {
            "tags": []
          },
          "execution_count": 61
        }
      ]
    },
    {
      "cell_type": "code",
      "metadata": {
        "colab": {
          "base_uri": "https://localhost:8080/"
        },
        "id": "bDsFhWvK2K_4",
        "outputId": "e1fcf820-5e16-4ac7-e346-00775e49d0b6"
      },
      "source": [
        "df_final.dtypes"
      ],
      "execution_count": 62,
      "outputs": [
        {
          "output_type": "execute_result",
          "data": {
            "text/plain": [
              "ID                             object\n",
              "Session_Activity_Count        float64\n",
              "No_Items_Added_InCart         float64\n",
              "No_Items_Removed_FromCart     float64\n",
              "No_Cart_Viewed                float64\n",
              "No_Checkout_Confirmed         float64\n",
              "No_Checkout_Initiated         float64\n",
              "No_Cart_Items_Viewed          float64\n",
              "No_Customer_Login             float64\n",
              "No_Page_Viewed                float64\n",
              "Is_Product_Details_viewed       int64\n",
              "Customer_Segment_Type        category\n",
              "Cart_Abandoned               category\n",
              "dtype: object"
            ]
          },
          "metadata": {
            "tags": []
          },
          "execution_count": 62
        }
      ]
    },
    {
      "cell_type": "code",
      "metadata": {
        "id": "6RtIobwK2K_5"
      },
      "source": [
        "df_final.Is_Product_Details_viewed=pd.Categorical(df_final.Is_Product_Details_viewed)"
      ],
      "execution_count": 63,
      "outputs": []
    },
    {
      "cell_type": "markdown",
      "metadata": {
        "id": "-A6WCu1Z2K_5"
      },
      "source": [
        "### Feature Selection"
      ]
    },
    {
      "cell_type": "markdown",
      "metadata": {
        "id": "dK-fm_rw2K_6"
      },
      "source": [
        "###### 1. By RFE"
      ]
    },
    {
      "cell_type": "code",
      "metadata": {
        "colab": {
          "base_uri": "https://localhost:8080/"
        },
        "id": "4pt83whD2K_6",
        "outputId": "172cb6ea-29fa-4993-8097-c0c0f424b795"
      },
      "source": [
        "X=df_final.iloc[:,1:12]\n",
        "X.shape"
      ],
      "execution_count": 64,
      "outputs": [
        {
          "output_type": "execute_result",
          "data": {
            "text/plain": [
              "(4284, 11)"
            ]
          },
          "metadata": {
            "tags": []
          },
          "execution_count": 64
        }
      ]
    },
    {
      "cell_type": "code",
      "metadata": {
        "colab": {
          "base_uri": "https://localhost:8080/",
          "height": 35
        },
        "id": "BYHCIyIW2K_6",
        "outputId": "dacac080-b4bd-4c42-97b2-ac6aec5bf539"
      },
      "source": [
        "y=df_final[\"Cart_Abandoned\"]\n",
        "y.name"
      ],
      "execution_count": 65,
      "outputs": [
        {
          "output_type": "execute_result",
          "data": {
            "application/vnd.google.colaboratory.intrinsic+json": {
              "type": "string"
            },
            "text/plain": [
              "'Cart_Abandoned'"
            ]
          },
          "metadata": {
            "tags": []
          },
          "execution_count": 65
        }
      ]
    },
    {
      "cell_type": "code",
      "metadata": {
        "colab": {
          "base_uri": "https://localhost:8080/"
        },
        "id": "y30XIs_r2K_7",
        "outputId": "a3154f94-cdd0-4d4c-b847-8f9014108434"
      },
      "source": [
        "lr = LogisticRegression()\n",
        "lr.fit(X,y)\n",
        "#stop the search when only the last feature is left\n",
        "rfe = RFE(lr, n_features_to_select=7, verbose = 3 )\n",
        "fit=rfe.fit(X,y)\n",
        "print(\"Num Features: %d\"% fit.n_features_) \n",
        "print(\"Selected Features: %s\"% fit.support_) \n",
        "print(\"Feature Ranking: %s\"% fit.ranking_)\n",
        "\n"
      ],
      "execution_count": 66,
      "outputs": [
        {
          "output_type": "stream",
          "text": [
            "Fitting estimator with 11 features.\n",
            "Fitting estimator with 10 features.\n",
            "Fitting estimator with 9 features.\n",
            "Fitting estimator with 8 features.\n",
            "Num Features: 7\n",
            "Selected Features: [ True False False  True  True  True False  True  True  True False]\n",
            "Feature Ranking: [1 2 4 1 1 1 5 1 1 1 3]\n"
          ],
          "name": "stdout"
        }
      ]
    },
    {
      "cell_type": "code",
      "metadata": {
        "id": "O4eo4IQL2K_8"
      },
      "source": [
        "l = [i for i,x in enumerate(list(fit.support_)) if x == True]"
      ],
      "execution_count": 67,
      "outputs": []
    },
    {
      "cell_type": "code",
      "metadata": {
        "colab": {
          "base_uri": "https://localhost:8080/"
        },
        "id": "h-TDNjYe2K_8",
        "outputId": "7ea675bb-0752-4114-bae1-dd4ca2266684"
      },
      "source": [
        "X.columns"
      ],
      "execution_count": 68,
      "outputs": [
        {
          "output_type": "execute_result",
          "data": {
            "text/plain": [
              "Index(['Session_Activity_Count', 'No_Items_Added_InCart',\n",
              "       'No_Items_Removed_FromCart', 'No_Cart_Viewed', 'No_Checkout_Confirmed',\n",
              "       'No_Checkout_Initiated ', 'No_Cart_Items_Viewed', 'No_Customer_Login',\n",
              "       'No_Page_Viewed', 'Is_Product_Details_viewed', 'Customer_Segment_Type'],\n",
              "      dtype='object')"
            ]
          },
          "metadata": {
            "tags": []
          },
          "execution_count": 68
        }
      ]
    },
    {
      "cell_type": "code",
      "metadata": {
        "id": "iFMtYn6R2K_8"
      },
      "source": [
        "feature_selected = [X[X.columns[l[i]]].name for i,x in enumerate(l)]"
      ],
      "execution_count": 69,
      "outputs": []
    },
    {
      "cell_type": "code",
      "metadata": {
        "colab": {
          "base_uri": "https://localhost:8080/"
        },
        "id": "PflNSu-M2K_9",
        "outputId": "5afe7372-ef65-4e07-8071-c721b850c41d"
      },
      "source": [
        "feature_selected"
      ],
      "execution_count": 70,
      "outputs": [
        {
          "output_type": "execute_result",
          "data": {
            "text/plain": [
              "['Session_Activity_Count',\n",
              " 'No_Cart_Viewed',\n",
              " 'No_Checkout_Confirmed',\n",
              " 'No_Checkout_Initiated ',\n",
              " 'No_Customer_Login',\n",
              " 'No_Page_Viewed',\n",
              " 'Is_Product_Details_viewed']"
            ]
          },
          "metadata": {
            "tags": []
          },
          "execution_count": 70
        }
      ]
    },
    {
      "cell_type": "markdown",
      "metadata": {
        "id": "FmbFtnA12K_9"
      },
      "source": [
        "###### 2.By Random Forest Classifier"
      ]
    },
    {
      "cell_type": "code",
      "metadata": {
        "id": "CYqpaEsg2K_-"
      },
      "source": [
        "# Create a random forest classifier\n",
        "clf = RandomForestClassifier(n_estimators=10000, random_state=0, n_jobs=-1)\n",
        "\n",
        "# Train the classifier\n",
        "clf.fit(X, y)\n",
        "feature_weightage_dict = dict()\n",
        "# Print the name and gini importance of each feature\n",
        "for feature in zip(X.columns, clf.feature_importances_):\n",
        "    feature_weightage_dict.update({feature[0]:feature[1]})"
      ],
      "execution_count": 71,
      "outputs": []
    },
    {
      "cell_type": "code",
      "metadata": {
        "colab": {
          "base_uri": "https://localhost:8080/"
        },
        "id": "s3TK3Aj92K_-",
        "outputId": "249f4f09-bb0e-4aa0-ba96-be2ba641e718"
      },
      "source": [
        "feature_weightage_dict"
      ],
      "execution_count": 72,
      "outputs": [
        {
          "output_type": "execute_result",
          "data": {
            "text/plain": [
              "{'Customer_Segment_Type': 0.0059418012185472185,\n",
              " 'Is_Product_Details_viewed': 0.009764913736069736,\n",
              " 'No_Cart_Items_Viewed': 0.018703955749515146,\n",
              " 'No_Cart_Viewed': 0.017810335296951977,\n",
              " 'No_Checkout_Confirmed': 0.7341868777064404,\n",
              " 'No_Checkout_Initiated ': 0.0441808380652188,\n",
              " 'No_Customer_Login': 0.05604221107820115,\n",
              " 'No_Items_Added_InCart': 0.025547984898027527,\n",
              " 'No_Items_Removed_FromCart': 0.010172300692196705,\n",
              " 'No_Page_Viewed': 0.027120211503535017,\n",
              " 'Session_Activity_Count': 0.05052857005529642}"
            ]
          },
          "metadata": {
            "tags": []
          },
          "execution_count": 72
        }
      ]
    },
    {
      "cell_type": "code",
      "metadata": {
        "id": "krN3y9772K__"
      },
      "source": [
        "sorted_feature_weightage_dict = sorted(feature_weightage_dict.items(), key=lambda kv: kv[1], reverse = True)"
      ],
      "execution_count": 73,
      "outputs": []
    },
    {
      "cell_type": "code",
      "metadata": {
        "colab": {
          "base_uri": "https://localhost:8080/"
        },
        "id": "qEK-HcQt2K__",
        "outputId": "ea07992d-3dc4-43a0-de95-4f72839a5df9"
      },
      "source": [
        "sorted_feature_weightage_dict"
      ],
      "execution_count": 74,
      "outputs": [
        {
          "output_type": "execute_result",
          "data": {
            "text/plain": [
              "[('No_Checkout_Confirmed', 0.7341868777064404),\n",
              " ('No_Customer_Login', 0.05604221107820115),\n",
              " ('Session_Activity_Count', 0.05052857005529642),\n",
              " ('No_Checkout_Initiated ', 0.0441808380652188),\n",
              " ('No_Page_Viewed', 0.027120211503535017),\n",
              " ('No_Items_Added_InCart', 0.025547984898027527),\n",
              " ('No_Cart_Items_Viewed', 0.018703955749515146),\n",
              " ('No_Cart_Viewed', 0.017810335296951977),\n",
              " ('No_Items_Removed_FromCart', 0.010172300692196705),\n",
              " ('Is_Product_Details_viewed', 0.009764913736069736),\n",
              " ('Customer_Segment_Type', 0.0059418012185472185)]"
            ]
          },
          "metadata": {
            "tags": []
          },
          "execution_count": 74
        }
      ]
    },
    {
      "cell_type": "code",
      "metadata": {
        "colab": {
          "base_uri": "https://localhost:8080/"
        },
        "id": "w4GcycTT2LAA",
        "outputId": "4e04cb92-54e1-477b-a3f6-cdc476cefc8a"
      },
      "source": [
        "df_final.columns"
      ],
      "execution_count": 75,
      "outputs": [
        {
          "output_type": "execute_result",
          "data": {
            "text/plain": [
              "Index(['ID', 'Session_Activity_Count', 'No_Items_Added_InCart',\n",
              "       'No_Items_Removed_FromCart', 'No_Cart_Viewed', 'No_Checkout_Confirmed',\n",
              "       'No_Checkout_Initiated ', 'No_Cart_Items_Viewed', 'No_Customer_Login',\n",
              "       'No_Page_Viewed', 'Is_Product_Details_viewed', 'Customer_Segment_Type',\n",
              "       'Cart_Abandoned'],\n",
              "      dtype='object')"
            ]
          },
          "metadata": {
            "tags": []
          },
          "execution_count": 75
        }
      ]
    },
    {
      "cell_type": "markdown",
      "metadata": {
        "id": "wHAn-As62LAA"
      },
      "source": [
        "#### Part 2: What are the important factors related to cart abandonment?\n",
        "Now comparing both the models we can see the No_Items_Added_InCart, No_Checkout_Confirmed, No_Checkout_Initiated, No_Customer_Login and No_Page_Viewed has the higher feature importance. So we will only consider these features to train our model."
      ]
    },
    {
      "cell_type": "markdown",
      "metadata": {
        "id": "6Q-xEhjm2LAB"
      },
      "source": [
        "### Train-Validation Split"
      ]
    },
    {
      "cell_type": "code",
      "metadata": {
        "id": "okjfaPpV2LAD"
      },
      "source": [
        "X = df_final.iloc[:,[5,6,8,9,2]]\n",
        "y = df_final.loc[:,[\"Cart_Abandoned\"]]\n",
        "X_train, X_test, y_train, y_test = train_test_split(X, y, test_size=0.40, random_state=0)\n"
      ],
      "execution_count": 76,
      "outputs": []
    },
    {
      "cell_type": "markdown",
      "metadata": {
        "id": "i_4olKn42LAD"
      },
      "source": [
        "### Over-Sampling Using SMOTE"
      ]
    },
    {
      "cell_type": "code",
      "metadata": {
        "colab": {
          "base_uri": "https://localhost:8080/"
        },
        "id": "PXWNoTXU2LAE",
        "outputId": "c6f7569f-845b-4ae3-e749-cf7103e1a499"
      },
      "source": [
        "sm = SMOTE(random_state=2,k_neighbors=5)\n",
        "X_train, y_train =sm.fit_sample(X_train,y_train)\n"
      ],
      "execution_count": 77,
      "outputs": [
        {
          "output_type": "stream",
          "text": [
            "/usr/local/lib/python3.7/dist-packages/sklearn/utils/validation.py:760: DataConversionWarning: A column-vector y was passed when a 1d array was expected. Please change the shape of y to (n_samples, ), for example using ravel().\n",
            "  y = column_or_1d(y, warn=True)\n",
            "/usr/local/lib/python3.7/dist-packages/sklearn/utils/deprecation.py:87: FutureWarning: Function safe_indexing is deprecated; safe_indexing is deprecated in version 0.22 and will be removed in version 0.24.\n",
            "  warnings.warn(msg, category=FutureWarning)\n"
          ],
          "name": "stderr"
        }
      ]
    },
    {
      "cell_type": "markdown",
      "metadata": {
        "id": "4XqsbFVk2LAE"
      },
      "source": [
        "###### Train-Validation Split after SMOTE"
      ]
    },
    {
      "cell_type": "code",
      "metadata": {
        "id": "_WbUCsjy2LAF"
      },
      "source": [
        "X_train_new, X_test_new, y_train_new, y_test_new = train_test_split(X_train, y_train, test_size=0.40, random_state=0)"
      ],
      "execution_count": 78,
      "outputs": []
    },
    {
      "cell_type": "markdown",
      "metadata": {
        "id": "E5AP2nZ52LAG"
      },
      "source": [
        "## 4. Model Builiding And Prediction"
      ]
    },
    {
      "cell_type": "markdown",
      "metadata": {
        "id": "NYkOyu7e2LAG"
      },
      "source": [
        "#### Part 3: How can we able to know whether a customer will do abandonment or not in future?"
      ]
    },
    {
      "cell_type": "code",
      "metadata": {
        "id": "AZJ7c_cn2LAH"
      },
      "source": [
        "lr1 = LogisticRegression()\n",
        "lr1.fit(X_train_new,y_train_new)\n",
        "\n",
        "\n",
        "\n",
        "y_pred_new = lr1.predict(X_test_new)  #### For SMOTE validation samples\n",
        "y_pred=lr1.predict(X_test)##### For actual validation samples"
      ],
      "execution_count": 79,
      "outputs": []
    },
    {
      "cell_type": "markdown",
      "metadata": {
        "id": "vFQ5eEvZ2LAH"
      },
      "source": [
        "## 5. Evaluation"
      ]
    },
    {
      "cell_type": "code",
      "metadata": {
        "colab": {
          "base_uri": "https://localhost:8080/"
        },
        "id": "ydxnjy9S2LAH",
        "outputId": "ef96d30e-0c56-432a-d3cd-d4b2f42254f4"
      },
      "source": [
        "print(\" accuracy is %2.3f\" % accuracy_score(y_test_new, y_pred_new))\n",
        "print(\" Kappa is %f\" %cohen_kappa_score(y_test_new, y_pred_new))\n"
      ],
      "execution_count": 80,
      "outputs": [
        {
          "output_type": "stream",
          "text": [
            " accuracy is 0.988\n",
            " Kappa is 0.976122\n"
          ],
          "name": "stdout"
        }
      ]
    },
    {
      "cell_type": "code",
      "metadata": {
        "colab": {
          "base_uri": "https://localhost:8080/"
        },
        "id": "N0mx1uzj2LAI",
        "outputId": "28070090-73e8-4f53-cf4d-2280c08c1312"
      },
      "source": [
        "print(\" accuracy is %2.3f\" % accuracy_score(y_test, y_pred))\n",
        "print(\" Kappa is %f\" %cohen_kappa_score(y_test, y_pred))\n"
      ],
      "execution_count": 81,
      "outputs": [
        {
          "output_type": "stream",
          "text": [
            " accuracy is 0.984\n",
            " Kappa is 0.936154\n"
          ],
          "name": "stdout"
        }
      ]
    },
    {
      "cell_type": "markdown",
      "metadata": {
        "id": "Je7ZK7d-2LAI"
      },
      "source": [
        "### Dump model to pickle file"
      ]
    },
    {
      "cell_type": "code",
      "metadata": {
        "colab": {
          "base_uri": "https://localhost:8080/"
        },
        "id": "_9D8LVMC2LAJ",
        "outputId": "77e17d52-6b13-4553-e96e-007352a4a544"
      },
      "source": [
        "lr1.predict(X_test)"
      ],
      "execution_count": 82,
      "outputs": [
        {
          "output_type": "execute_result",
          "data": {
            "text/plain": [
              "array([1, 1, 1, ..., 0, 1, 1])"
            ]
          },
          "metadata": {
            "tags": []
          },
          "execution_count": 82
        }
      ]
    },
    {
      "cell_type": "code",
      "metadata": {
        "id": "Zo3vevlq2LAJ",
        "scrolled": true
      },
      "source": [
        "pkl_out = open(\"train_classifier\",\"wb\")\n",
        "pkl.dump(lr1,pkl_out)"
      ],
      "execution_count": 83,
      "outputs": []
    },
    {
      "cell_type": "markdown",
      "metadata": {
        "id": "sB89jS5M2LAJ"
      },
      "source": [
        "## 6. Conclusion\n",
        "By using this analysis we can predict whether a customer will do abandonment or not in the future. So that we can able to give them some offers so that they able to complete the checkout successfully."
      ]
    }
  ]
}